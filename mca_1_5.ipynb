{
  "nbformat": 4,
  "nbformat_minor": 0,
  "metadata": {
    "colab": {
      "name": "mca_1_5.ipynb",
      "provenance": []
    },
    "kernelspec": {
      "name": "python3",
      "display_name": "Python 3"
    },
    "language_info": {
      "name": "python"
    }
  },
  "cells": [
    {
      "cell_type": "code",
      "metadata": {
        "colab": {
          "base_uri": "https://localhost:8080/"
        },
        "id": "_9vNjqSAuzl6",
        "outputId": "225666ab-f08a-4852-a681-455494cf3501"
      },
      "source": [
        "#Loop (while, for)\n",
        "print('My Name')\n",
        "print('My Name')\n",
        "print('My Name')\n",
        "print('My Name')\n",
        "print('My Name')\n",
        "print('My Name')\n",
        "print('My Name')\n",
        "print('My Name')\n",
        "print('My Name')\n",
        "print('My Name')\n",
        "print('My Name')\n",
        "print('My Name')"
      ],
      "execution_count": 1,
      "outputs": [
        {
          "output_type": "stream",
          "name": "stdout",
          "text": [
            "My Name\n",
            "My Name\n",
            "My Name\n",
            "My Name\n",
            "My Name\n",
            "My Name\n",
            "My Name\n",
            "My Name\n",
            "My Name\n",
            "My Name\n"
          ]
        }
      ]
    },
    {
      "cell_type": "code",
      "metadata": {
        "colab": {
          "base_uri": "https://localhost:8080/"
        },
        "id": "qCYq3k1Fv1Mb",
        "outputId": "be7198f5-4d6a-43e4-b176-a7762efc239c"
      },
      "source": [
        "#While\n",
        "i = 1\n",
        "j = 10\n",
        "while i<=j:\n",
        "  print('My Name')\n",
        "  i+=1"
      ],
      "execution_count": 31,
      "outputs": [
        {
          "output_type": "stream",
          "name": "stdout",
          "text": [
            "My Name\n",
            "My Name\n",
            "My Name\n",
            "My Name\n",
            "My Name\n",
            "My Name\n",
            "My Name\n",
            "My Name\n",
            "My Name\n",
            "My Name\n"
          ]
        }
      ]
    },
    {
      "cell_type": "code",
      "metadata": {
        "colab": {
          "base_uri": "https://localhost:8080/"
        },
        "id": "plH-3WboyO_h",
        "outputId": "eab7ed1a-030a-4482-edb1-f19b44864342"
      },
      "source": [
        "i = 1\n",
        "j = 10\n",
        "s = 0\n",
        "while i <= j:\n",
        "  s = s+i\n",
        "  i+=1\n",
        "print(\"Summateion is = \",s)"
      ],
      "execution_count": 18,
      "outputs": [
        {
          "output_type": "stream",
          "name": "stdout",
          "text": [
            "Summateion is =  55\n"
          ]
        }
      ]
    },
    {
      "cell_type": "code",
      "metadata": {
        "colab": {
          "base_uri": "https://localhost:8080/"
        },
        "id": "412ks49ozrCO",
        "outputId": "5184125c-c79b-4881-c31f-c079bbc090c5"
      },
      "source": [
        "#For\n",
        "#  (1,2,3,4,5,6,7,8,9,10)\n",
        "a = 'hello world'\n",
        "b = [10,20,20.11,'hit',1.33]\n",
        "for i in range(1,11):\n",
        "  print('My Name')\n",
        "  print(i)"
      ],
      "execution_count": 29,
      "outputs": [
        {
          "output_type": "stream",
          "name": "stdout",
          "text": [
            "My Name\n",
            "1\n",
            "My Name\n",
            "2\n",
            "My Name\n",
            "3\n",
            "My Name\n",
            "4\n",
            "My Name\n",
            "5\n",
            "My Name\n",
            "6\n",
            "My Name\n",
            "7\n",
            "My Name\n",
            "8\n",
            "My Name\n",
            "9\n",
            "My Name\n",
            "10\n"
          ]
        }
      ]
    },
    {
      "cell_type": "code",
      "metadata": {
        "id": "V_5MvApv2XH4"
      },
      "source": [
        ""
      ],
      "execution_count": null,
      "outputs": []
    }
  ]
}