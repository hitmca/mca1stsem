{
  "nbformat": 4,
  "nbformat_minor": 0,
  "metadata": {
    "colab": {
      "name": "mca_1_4.ipynb",
      "provenance": [],
      "collapsed_sections": []
    },
    "kernelspec": {
      "name": "python3",
      "display_name": "Python 3"
    },
    "language_info": {
      "name": "python"
    }
  },
  "cells": [
    {
      "cell_type": "code",
      "metadata": {
        "colab": {
          "base_uri": "https://localhost:8080/"
        },
        "id": "GS9ak38g0wMl",
        "outputId": "8262d958-02ad-4024-e1e0-552ee518dd99"
      },
      "source": [
        "#Control Statement\n",
        "# if--else---elif\n",
        "a = int(input(\"Enter your Age :\"))\n",
        "if a > 18:\n",
        " print('Welcome to TCS')\n",
        "else:\n",
        "  print('Sorry to TCS')\n",
        "\n"
      ],
      "execution_count": null,
      "outputs": [
        {
          "output_type": "stream",
          "name": "stdout",
          "text": [
            "Enter your Age :19\n",
            "Welcome to TCS\n"
          ]
        }
      ]
    },
    {
      "cell_type": "code",
      "metadata": {
        "colab": {
          "base_uri": "https://localhost:8080/"
        },
        "id": "w9-D9V9B5_AK",
        "outputId": "ed222e94-38d0-4f76-c833-4e7f04f44bf9"
      },
      "source": [
        "a = int(input(\"Enter a number :\"))\n",
        "b = a % 2\n",
        "if b > 0:\n",
        "  print('Odd')\n",
        "else:\n",
        "  print('Even')"
      ],
      "execution_count": null,
      "outputs": [
        {
          "output_type": "stream",
          "name": "stdout",
          "text": [
            "Enter a number :20\n",
            "Odd\n"
          ]
        }
      ]
    },
    {
      "cell_type": "code",
      "metadata": {
        "colab": {
          "base_uri": "https://localhost:8080/"
        },
        "id": "Da_hyPAp9PWw",
        "outputId": "fedc8e2f-68e8-45e2-a3ff-938773a255ed"
      },
      "source": [
        " a = int(input(\"Enter a number :\"))\n",
        "if (a % 2) == 0:\n",
        "  print('Even')\n",
        "else:\n",
        "  print('Odd')"
      ],
      "execution_count": null,
      "outputs": [
        {
          "output_type": "stream",
          "name": "stdout",
          "text": [
            "Enter a number :10\n",
            "Even\n"
          ]
        }
      ]
    },
    {
      "cell_type": "code",
      "metadata": {
        "colab": {
          "base_uri": "https://localhost:8080/"
        },
        "id": "rMh56rmM9_2y",
        "outputId": "97162f8a-7ed4-4809-d7f3-48f5b29b7770"
      },
      "source": [
        "a = float(input(\"Enter a number of Subject1 :\"))\n",
        "if a >= 90:\n",
        "  print('O')\n",
        "if a>=80 and a<=89:\n",
        "  print('E')\n",
        "if a>=70 and a<80:\n",
        "  print('A')\n",
        "if a<=69 and a>=60:\n",
        "  print('B')\n",
        "if a<=59 and a>=50:\n",
        "  print('C')\n",
        "if a>=40 and a<=49:\n",
        "  print('D')\n",
        "if a<40:\n",
        "  print('F')\n"
      ],
      "execution_count": null,
      "outputs": [
        {
          "name": "stdout",
          "output_type": "stream",
          "text": [
            "Enter a number of Subject1 :80\n"
          ]
        }
      ]
    },
    {
      "cell_type": "code",
      "metadata": {
        "colab": {
          "base_uri": "https://localhost:8080/"
        },
        "id": "4JbKVbfAF1sn",
        "outputId": "c5252d94-9000-41c5-b627-9ff23c86d63f"
      },
      "source": [
        "a = int(input(\"Enter a number of Subject1 :\"))\n",
        "if a >= 90:\n",
        "  print('O')\n",
        "elif a>80 and a<=89:\n",
        "  print('E')\n",
        "elif a>=70 and a<=79:\n",
        "  print('A')\n",
        "elif a<=69 and a>=60:\n",
        "  print('B')\n",
        "elif a<=59 and a>=50:\n",
        "  print('C')\n",
        "elif a>=40 and a<=49:\n",
        "  print('D')\n",
        "else:\n",
        "  print('F')"
      ],
      "execution_count": null,
      "outputs": [
        {
          "output_type": "stream",
          "name": "stdout",
          "text": [
            "Enter a number of Subject1 :30\n",
            "F\n"
          ]
        }
      ]
    },
    {
      "cell_type": "code",
      "metadata": {
        "colab": {
          "base_uri": "https://localhost:8080/"
        },
        "id": "JYjhpaz7GTXZ",
        "outputId": "aeebba70-f07a-4d3d-c756-d39232fcbcee"
      },
      "source": [
        "a = (10,20,20,30,10,10,10)\n",
        "a.count(10)"
      ],
      "execution_count": null,
      "outputs": [
        {
          "output_type": "execute_result",
          "data": {
            "text/plain": [
              "4"
            ]
          },
          "metadata": {},
          "execution_count": 42
        }
      ]
    },
    {
      "cell_type": "code",
      "metadata": {
        "id": "m7kvAR8qMCq1"
      },
      "source": [
        ""
      ],
      "execution_count": null,
      "outputs": []
    }
  ]
}