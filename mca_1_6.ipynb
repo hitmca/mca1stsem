{
  "nbformat": 4,
  "nbformat_minor": 0,
  "metadata": {
    "colab": {
      "name": "mca_1_6.ipynb",
      "provenance": [],
      "collapsed_sections": []
    },
    "kernelspec": {
      "name": "python3",
      "display_name": "Python 3"
    },
    "language_info": {
      "name": "python"
    }
  },
  "cells": [
    {
      "cell_type": "code",
      "metadata": {
        "id": "m3neRp2FwYgf",
        "colab": {
          "base_uri": "https://localhost:8080/"
        },
        "outputId": "5b54f8b8-57ad-4679-dac8-4edb36f3a7ed"
      },
      "source": [
        "# For \n",
        "a = 'h'\n",
        "b = [10,20,30,40,50]\n",
        "for i in b:\n",
        "  print(i)"
      ],
      "execution_count": null,
      "outputs": [
        {
          "output_type": "stream",
          "name": "stdout",
          "text": [
            "10\n",
            "20\n",
            "30\n",
            "40\n",
            "50\n"
          ]
        }
      ]
    },
    {
      "cell_type": "code",
      "metadata": {
        "colab": {
          "base_uri": "https://localhost:8080/"
        },
        "id": "nynw_My345lK",
        "outputId": "7edc3d32-b925-4348-cbd5-3fd049f775c3"
      },
      "source": [
        "b = [10,20,30,40,50,60,70]\n",
        "i = 1\n",
        "j = 0\n",
        "c = len(b)\n",
        "while i <= c:\n",
        "  print(b[j])\n",
        "  i+=1\n",
        "  j+=1"
      ],
      "execution_count": null,
      "outputs": [
        {
          "output_type": "stream",
          "name": "stdout",
          "text": [
            "10\n",
            "20\n",
            "30\n",
            "40\n",
            "50\n",
            "60\n",
            "70\n"
          ]
        }
      ]
    },
    {
      "cell_type": "code",
      "metadata": {
        "colab": {
          "base_uri": "https://localhost:8080/"
        },
        "id": "PSoFHnbf9AjN",
        "outputId": "daee3338-93dc-4c29-d738-480e823c2023"
      },
      "source": [
        "'''1 2 3 4 5\n",
        "6 7 8 9 10\n",
        "11 12 13 14 15\n",
        "16 17 18 19 20'''\n",
        "for i in range(1,5):\n",
        "  for j in range(1,6):\n",
        "    print(j, end=' ')\n",
        "  print()"
      ],
      "execution_count": null,
      "outputs": [
        {
          "output_type": "stream",
          "name": "stdout",
          "text": [
            "1 2 3 4 5 \n",
            "1 2 3 4 5 \n",
            "1 2 3 4 5 \n",
            "1 2 3 4 5 \n"
          ]
        }
      ]
    },
    {
      "cell_type": "code",
      "metadata": {
        "id": "yRgZ4ijdDeKu"
      },
      "source": [
        ""
      ],
      "execution_count": null,
      "outputs": []
    }
  ]
}